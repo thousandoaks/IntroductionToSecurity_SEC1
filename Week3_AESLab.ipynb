{
  "nbformat": 4,
  "nbformat_minor": 0,
  "metadata": {
    "colab": {
      "provenance": [],
      "authorship_tag": "ABX9TyMSJ8ABFLDwvxELG1CB6txg"
    },
    "kernelspec": {
      "name": "python3",
      "display_name": "Python 3"
    },
    "language_info": {
      "name": "python"
    }
  },
  "cells": [
    {
      "cell_type": "code",
      "source": [
        "!pip install pycryptodome"
      ],
      "metadata": {
        "colab": {
          "base_uri": "https://localhost:8080/"
        },
        "id": "odBmiemN31oD",
        "outputId": "02d1574f-92c4-4d8f-be88-b83f3f67bfb0"
      },
      "execution_count": 20,
      "outputs": [
        {
          "output_type": "stream",
          "name": "stdout",
          "text": [
            "Requirement already satisfied: pycryptodome in /usr/local/lib/python3.11/dist-packages (3.23.0)\n"
          ]
        }
      ]
    },
    {
      "cell_type": "code",
      "execution_count": 26,
      "metadata": {
        "colab": {
          "base_uri": "https://localhost:8080/"
        },
        "id": "s5XueNA33wjO",
        "outputId": "7e360466-f8b5-40f1-9536-ee1959f68a5a"
      },
      "outputs": [
        {
          "output_type": "stream",
          "name": "stdout",
          "text": [
            "Encrypted: b'\\x99\\xf4~\\xdb\\xd5\\x1a?\\x81r|\\xa1\\xd6+\\xbe\\t\\xadb\\x7f\\xd6\\x8b'\n",
            "Decrypted: b'Confidential Message'\n"
          ]
        }
      ],
      "source": [
        "from Crypto.Cipher import AES\n",
        "import os\n",
        "\n",
        "key = os.urandom(16)\n",
        "cipher = AES.new(key, AES.MODE_EAX)\n",
        "plaintext = b'Confidential Message'\n",
        "nonce = cipher.nonce\n",
        "ciphertext, tag = cipher.encrypt_and_digest(plaintext)\n",
        "\n",
        "cipher_dec = AES.new(key, AES.MODE_EAX, nonce=nonce)\n",
        "decrypted_text = cipher_dec.decrypt(ciphertext)\n",
        "\n",
        "print(\"Encrypted:\", ciphertext)\n",
        "print(\"Decrypted:\", decrypted_text)"
      ]
    },
    {
      "cell_type": "code",
      "source": [],
      "metadata": {
        "id": "dF61u5Ba49Ff"
      },
      "execution_count": 25,
      "outputs": []
    }
  ]
}