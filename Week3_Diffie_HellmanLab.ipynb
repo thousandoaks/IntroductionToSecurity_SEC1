{
  "nbformat": 4,
  "nbformat_minor": 0,
  "metadata": {
    "colab": {
      "provenance": [],
      "authorship_tag": "ABX9TyOer7rXwMseoAsPHxlI7NwV"
    },
    "kernelspec": {
      "name": "python3",
      "display_name": "Python 3"
    },
    "language_info": {
      "name": "python"
    }
  },
  "cells": [
    {
      "cell_type": "code",
      "source": [
        "!pip install pycryptodome"
      ],
      "metadata": {
        "colab": {
          "base_uri": "https://localhost:8080/"
        },
        "id": "otJVGLtqFkLN",
        "outputId": "a8c407be-e1a3-4095-ae28-c463f1614a96"
      },
      "execution_count": 1,
      "outputs": [
        {
          "output_type": "stream",
          "name": "stdout",
          "text": [
            "Collecting pycryptodome\n",
            "  Downloading pycryptodome-3.23.0-cp37-abi3-manylinux_2_17_x86_64.manylinux2014_x86_64.whl.metadata (3.4 kB)\n",
            "Downloading pycryptodome-3.23.0-cp37-abi3-manylinux_2_17_x86_64.manylinux2014_x86_64.whl (2.3 MB)\n",
            "\u001b[?25l   \u001b[90m━━━━━━━━━━━━━━━━━━━━━━━━━━━━━━━━━━━━━━━━\u001b[0m \u001b[32m0.0/2.3 MB\u001b[0m \u001b[31m?\u001b[0m eta \u001b[36m-:--:--\u001b[0m\r\u001b[2K   \u001b[91m━━━━━━━━━━━━━━━━━━━━━━━━━━━━━━━━━━━━━━━\u001b[0m\u001b[91m╸\u001b[0m \u001b[32m2.3/2.3 MB\u001b[0m \u001b[31m89.5 MB/s\u001b[0m eta \u001b[36m0:00:01\u001b[0m\r\u001b[2K   \u001b[90m━━━━━━━━━━━━━━━━━━━━━━━━━━━━━━━━━━━━━━━━\u001b[0m \u001b[32m2.3/2.3 MB\u001b[0m \u001b[31m47.3 MB/s\u001b[0m eta \u001b[36m0:00:00\u001b[0m\n",
            "\u001b[?25hInstalling collected packages: pycryptodome\n",
            "Successfully installed pycryptodome-3.23.0\n"
          ]
        }
      ]
    },
    {
      "cell_type": "code",
      "execution_count": 2,
      "metadata": {
        "colab": {
          "base_uri": "https://localhost:8080/"
        },
        "id": "vZ47G9V3FccU",
        "outputId": "d351516d-48d5-405d-b4ca-96da7d919475"
      },
      "outputs": [
        {
          "output_type": "stream",
          "name": "stdout",
          "text": [
            "Shared secrets match: True\n"
          ]
        }
      ],
      "source": [
        "from Crypto.Util.number import getPrime, GCD\n",
        "\n",
        "prime = getPrime(2048)\n",
        "base = 2\n",
        "private_key_a = getPrime(256)\n",
        "private_key_b = getPrime(256)\n",
        "\n",
        "public_key_a = pow(base, private_key_a, prime)\n",
        "public_key_b = pow(base, private_key_b, prime)\n",
        "\n",
        "shared_secret_a = pow(public_key_b, private_key_a, prime)\n",
        "shared_secret_b = pow(public_key_a, private_key_b, prime)\n",
        "\n",
        "print(\"Shared secrets match:\", shared_secret_a == shared_secret_b)"
      ]
    }
  ]
}