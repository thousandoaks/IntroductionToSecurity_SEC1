{
  "nbformat": 4,
  "nbformat_minor": 0,
  "metadata": {
    "colab": {
      "provenance": [],
      "authorship_tag": "ABX9TyPckfgwtO2k5HdxXTwbrwTI"
    },
    "kernelspec": {
      "name": "python3",
      "display_name": "Python 3"
    },
    "language_info": {
      "name": "python"
    }
  },
  "cells": [
    {
      "cell_type": "code",
      "source": [
        "!pip install pycryptodome"
      ],
      "metadata": {
        "colab": {
          "base_uri": "https://localhost:8080/"
        },
        "id": "NmjXUpEcEG40",
        "outputId": "573bd47f-317e-4b2a-a77b-a436588b0423"
      },
      "execution_count": 1,
      "outputs": [
        {
          "output_type": "stream",
          "name": "stdout",
          "text": [
            "Collecting pycryptodome\n",
            "  Downloading pycryptodome-3.23.0-cp37-abi3-manylinux_2_17_x86_64.manylinux2014_x86_64.whl.metadata (3.4 kB)\n",
            "Downloading pycryptodome-3.23.0-cp37-abi3-manylinux_2_17_x86_64.manylinux2014_x86_64.whl (2.3 MB)\n",
            "\u001b[2K   \u001b[90m━━━━━━━━━━━━━━━━━━━━━━━━━━━━━━━━━━━━━━━━\u001b[0m \u001b[32m2.3/2.3 MB\u001b[0m \u001b[31m22.8 MB/s\u001b[0m eta \u001b[36m0:00:00\u001b[0m\n",
            "\u001b[?25hInstalling collected packages: pycryptodome\n",
            "Successfully installed pycryptodome-3.23.0\n"
          ]
        }
      ]
    },
    {
      "cell_type": "code",
      "execution_count": 2,
      "metadata": {
        "colab": {
          "base_uri": "https://localhost:8080/"
        },
        "id": "odmdE5heD-ev",
        "outputId": "09c5ccb4-8f19-428d-be28-37ed3a167091"
      },
      "outputs": [
        {
          "output_type": "stream",
          "name": "stdout",
          "text": [
            "The signature is valid.\n"
          ]
        }
      ],
      "source": [
        "\n",
        "from Crypto.PublicKey import RSA\n",
        "from Crypto.Signature import pkcs1_15\n",
        "from Crypto.Hash import SHA256\n",
        "\n",
        "key_pair = RSA.generate(2048)\n",
        "private_key = key_pair\n",
        "public_key = key_pair.publickey()\n",
        "\n",
        "message = b'Verify my Identity'\n",
        "hash = SHA256.new(message)\n",
        "\n",
        "signature = pkcs1_15.new(private_key).sign(hash)\n",
        "\n",
        "try:\n",
        "    pkcs1_15.new(public_key).verify(hash, signature)\n",
        "    print(\"The signature is valid.\")\n",
        "except (ValueError, TypeError):\n",
        "    print(\"The signature is not valid.\")\n",
        ""
      ]
    }
  ]
}