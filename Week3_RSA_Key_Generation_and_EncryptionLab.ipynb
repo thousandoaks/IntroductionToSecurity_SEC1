{
  "nbformat": 4,
  "nbformat_minor": 0,
  "metadata": {
    "colab": {
      "provenance": [],
      "authorship_tag": "ABX9TyNr5YjDLPgiNprenFDpseQD"
    },
    "kernelspec": {
      "name": "python3",
      "display_name": "Python 3"
    },
    "language_info": {
      "name": "python"
    }
  },
  "cells": [
    {
      "cell_type": "code",
      "source": [
        "!pip install pycryptodome"
      ],
      "metadata": {
        "colab": {
          "base_uri": "https://localhost:8080/"
        },
        "id": "yRs-CUeYCYIA",
        "outputId": "5027ecbc-4737-45a3-f8fc-4aac0cbea863"
      },
      "execution_count": 2,
      "outputs": [
        {
          "output_type": "stream",
          "name": "stdout",
          "text": [
            "Collecting pycryptodome\n",
            "  Downloading pycryptodome-3.23.0-cp37-abi3-manylinux_2_17_x86_64.manylinux2014_x86_64.whl.metadata (3.4 kB)\n",
            "Downloading pycryptodome-3.23.0-cp37-abi3-manylinux_2_17_x86_64.manylinux2014_x86_64.whl (2.3 MB)\n",
            "\u001b[?25l   \u001b[90m━━━━━━━━━━━━━━━━━━━━━━━━━━━━━━━━━━━━━━━━\u001b[0m \u001b[32m0.0/2.3 MB\u001b[0m \u001b[31m?\u001b[0m eta \u001b[36m-:--:--\u001b[0m\r\u001b[2K   \u001b[91m━━━━\u001b[0m\u001b[91m╸\u001b[0m\u001b[90m━━━━━━━━━━━━━━━━━━━━━━━━━━━━━━━━━━━\u001b[0m \u001b[32m0.3/2.3 MB\u001b[0m \u001b[31m8.1 MB/s\u001b[0m eta \u001b[36m0:00:01\u001b[0m\r\u001b[2K   \u001b[91m━━━━━━━━━━━━━━━━━━━━━━━━━━━━━━━━━━━━━━━\u001b[0m\u001b[91m╸\u001b[0m \u001b[32m2.3/2.3 MB\u001b[0m \u001b[31m39.6 MB/s\u001b[0m eta \u001b[36m0:00:01\u001b[0m\r\u001b[2K   \u001b[90m━━━━━━━━━━━━━━━━━━━━━━━━━━━━━━━━━━━━━━━━\u001b[0m \u001b[32m2.3/2.3 MB\u001b[0m \u001b[31m32.5 MB/s\u001b[0m eta \u001b[36m0:00:00\u001b[0m\n",
            "\u001b[?25hInstalling collected packages: pycryptodome\n",
            "Successfully installed pycryptodome-3.23.0\n"
          ]
        }
      ]
    },
    {
      "cell_type": "code",
      "execution_count": 3,
      "metadata": {
        "colab": {
          "base_uri": "https://localhost:8080/"
        },
        "id": "kDtt1cllCXGb",
        "outputId": "c1a236c9-0729-4100-b6b4-2ba2ba4bb222"
      },
      "outputs": [
        {
          "output_type": "stream",
          "name": "stdout",
          "text": [
            "Encrypted: b\"\\x98\\\\\\x19\\x9f\\x9a\\xb5?5\\x1cUYj\\x8c|\\x04\\xf8i4\\x1d\\xaeF\\xf8\\xa9##o\\xd4\\xe3\\x9f\\xbfC'/\\xdc\\xd7\\x91\\xd49\\xec@\\xac\\xff^\\xe8\\xa7\\xda\\x1f\\xbf(\\x06\\x92\\xe0g'\\xb2\\xa6\\x9f\\x98\\xce\\xff\\xebw\\x88\\xc40;\\xdf\\x8d6=\\xe9vG\\xde\\xa9hW\\x08\\x88\\xaf\\x8a@\\x87`\\t\\xca\\xbd\\x94\\x7f\\x0e\\xcc\\xd5d\\x8dT\\xcd^&\\x0e\\xb6\\x1eFe&\\xed\\xdd\\xeem(\\x8e\\x80^\\xdb\\x92~\\x87\\xfeiI\\x11\\xcb\\xe1\\xf5\\xfc=H\\x87 3\\xbf&\\xaco\\xa0J.\\x91V\\xdf\\xbc\\x85\\xf6\\xe6\\xa3\\xf6\\xe5;\\xf7\\x8bE\\xe5\\x1b\\x8f\\xfa*\\xd8\\x10p+\\xb7\\xd0V\\xe4(\\xbe\\xab\\xd1\\x01\\xd8\\xc9\\x9a'\\xa8\\x9d\\xd1\\x1eq\\x05b\\x0f\\x1c\\xec\\xa3\\xd7b\\x0b\\xa9\\xbc4\\x04\\t\\xa9#\\x8c\\x82\\x19\\x94%\\x00\\xd8G5\\x8a\\x884Cf\\x16{;\\x9c\\tNe\\x80\\xf0\\x83\\x04\\xacV\\xae\\xfc\\xa1\\x91\\x13P\\xda\\x16\\x04\\xa3\\x04\\xf8\\xac\\xc5\\xa8\\xd0\\x9e\\x1f)N\\x95ft!\\xe5zEL&\\xe8\\xb3\\xd1<\\xacj;\"\n",
            "Decrypted: b'Confidential Message'\n"
          ]
        }
      ],
      "source": [
        "from Crypto.PublicKey import RSA\n",
        "from Crypto.Cipher import PKCS1_OAEP\n",
        "\n",
        "key_pair = RSA.generate(2048)\n",
        "public_key = key_pair.publickey()\n",
        "cipher_rsa = PKCS1_OAEP.new(public_key)\n",
        "plaintext = b'Confidential Message'\n",
        "ciphertext = cipher_rsa.encrypt(plaintext)\n",
        "\n",
        "cipher_rsa_dec = PKCS1_OAEP.new(key_pair)\n",
        "decrypted_text = cipher_rsa_dec.decrypt(ciphertext)\n",
        "\n",
        "print(\"Encrypted:\", ciphertext)\n",
        "print(\"Decrypted:\", decrypted_text)"
      ]
    }
  ]
}