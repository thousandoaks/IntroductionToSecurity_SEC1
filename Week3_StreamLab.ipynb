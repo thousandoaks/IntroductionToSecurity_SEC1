{
  "nbformat": 4,
  "nbformat_minor": 0,
  "metadata": {
    "colab": {
      "provenance": [],
      "authorship_tag": "ABX9TyP7bK26/YN84LlVJ6eCALHo"
    },
    "kernelspec": {
      "name": "python3",
      "display_name": "Python 3"
    },
    "language_info": {
      "name": "python"
    }
  },
  "cells": [
    {
      "cell_type": "code",
      "execution_count": 2,
      "metadata": {
        "colab": {
          "base_uri": "https://localhost:8080/"
        },
        "id": "IFVPStVP7XU1",
        "outputId": "2d1f17ed-3e50-4e5a-fe10-fa11591deeeb"
      },
      "outputs": [
        {
          "output_type": "stream",
          "name": "stdout",
          "text": [
            "Encrypted: b'\\x9c\\x9e\\xdeC\\xc4*\\xf1\\x8ccJ[\\xbbPfQ\\x0b\\xac\\x90\\xd7@'\n",
            "Decrypted: b'Confidential Message'\n"
          ]
        }
      ],
      "source": [
        "import os\n",
        "\n",
        "def xor_encrypt_decrypt(message, key):\n",
        "    return bytes([message[i] ^ key[i % len(key)] for i in range(len(message))])\n",
        "\n",
        "key = os.urandom(16)\n",
        "plaintext = b'Confidential Message'\n",
        "ciphertext = xor_encrypt_decrypt(plaintext, key)\n",
        "decrypted_text = xor_encrypt_decrypt(ciphertext, key)\n",
        "\n",
        "print(\"Encrypted:\", ciphertext)\n",
        "print(\"Decrypted:\", decrypted_text)"
      ]
    }
  ]
}