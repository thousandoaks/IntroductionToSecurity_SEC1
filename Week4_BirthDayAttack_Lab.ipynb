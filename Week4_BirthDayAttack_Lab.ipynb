{
  "nbformat": 4,
  "nbformat_minor": 0,
  "metadata": {
    "colab": {
      "provenance": [],
      "authorship_tag": "ABX9TyOmo/645S2/rx54tr5ThDul",
      "include_colab_link": true
    },
    "kernelspec": {
      "name": "python3",
      "display_name": "Python 3"
    },
    "language_info": {
      "name": "python"
    }
  },
  "cells": [
    {
      "cell_type": "markdown",
      "metadata": {
        "id": "view-in-github",
        "colab_type": "text"
      },
      "source": [
        "<a href=\"https://colab.research.google.com/github/thousandoaks/IntroductionToSecurity_SEC1/blob/main/Week4_BirthDayAttack_Lab.ipynb\" target=\"_parent\"><img src=\"https://colab.research.google.com/assets/colab-badge.svg\" alt=\"Open In Colab\"/></a>"
      ]
    },
    {
      "cell_type": "code",
      "execution_count": null,
      "metadata": {
        "collapsed": true,
        "id": "QFOeD9ewaMj-"
      },
      "outputs": [],
      "source": [
        "import hashlib, random, string\n",
        "\n",
        "def random_string(length=1):\n",
        "    return ''.join(random.choices(string.ascii_letters + string.digits, k=length))\n",
        "\n",
        "def find_md5_collision():\n",
        "    hashes = {}\n",
        "    attempts = 0\n",
        "    while True:\n",
        "        attempts += 1\n",
        "        s = random_string()\n",
        "        md5_hash = hashlib.md5(s.encode()).hexdigest()\n",
        "        if md5_hash in hashes and hashes[md5_hash] != s:\n",
        "            return attempts, hashes[md5_hash], s, md5_hash\n",
        "        hashes[md5_hash] = s\n",
        "\n",
        "attempts, s1, s2, collision_hash = find_md5_collision()\n",
        "print(f\"Collision found in {attempts} attempts!\\nString 1: {s1}\\nString 2: {s2}\\nHash: {collision_hash}\")"
      ]
    },
    {
      "cell_type": "code",
      "source": [],
      "metadata": {
        "id": "RAHtbzZhbIpm"
      },
      "execution_count": null,
      "outputs": []
    }
  ]
}