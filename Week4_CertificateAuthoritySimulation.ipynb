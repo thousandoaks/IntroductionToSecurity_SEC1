{
  "nbformat": 4,
  "nbformat_minor": 0,
  "metadata": {
    "colab": {
      "provenance": [],
      "authorship_tag": "ABX9TyMQqnf5M0bEzHK8ltykK2zx"
    },
    "kernelspec": {
      "name": "python3",
      "display_name": "Python 3"
    },
    "language_info": {
      "name": "python"
    }
  },
  "cells": [
    {
      "cell_type": "code",
      "execution_count": 1,
      "metadata": {
        "colab": {
          "base_uri": "https://localhost:8080/"
        },
        "id": "MUXNiQZKgpaV",
        "outputId": "72b74881-5696-4c46-cab3-00e16136c6cc"
      },
      "outputs": [
        {
          "output_type": "stream",
          "name": "stdout",
          "text": [
            "Root CA created.\n"
          ]
        }
      ],
      "source": [
        "from cryptography import x509\n",
        "from cryptography.hazmat.primitives import hashes\n",
        "from cryptography.hazmat.primitives.asymmetric import rsa\n",
        "from cryptography.x509.oid import NameOID\n",
        "from datetime import datetime, timedelta, timezone\n",
        "\n",
        "# Generate root CA\n",
        "root_key = rsa.generate_private_key(public_exponent=65537, key_size=2048)\n",
        "subject = issuer = x509.Name([\n",
        "    x509.NameAttribute(NameOID.COUNTRY_NAME, u\"US\"),\n",
        "    x509.NameAttribute(NameOID.ORGANIZATION_NAME, u\"My CA\"),\n",
        "])\n",
        "root_cert = x509.CertificateBuilder().subject_name(subject).issuer_name(issuer).public_key(\n",
        "    root_key.public_key()\n",
        ").serial_number(x509.random_serial_number()).not_valid_before(datetime.now(timezone.utc)).not_valid_after(\n",
        "    datetime.now(timezone.utc) + timedelta(days=365)\n",
        ").sign(root_key, hashes.SHA256())\n",
        "\n",
        "print(\"Root CA created.\")"
      ]
    }
  ]
}