{
  "nbformat": 4,
  "nbformat_minor": 0,
  "metadata": {
    "colab": {
      "provenance": [],
      "authorship_tag": "ABX9TyNbKW5uXslweQmj1mtCABoq"
    },
    "kernelspec": {
      "name": "python3",
      "display_name": "Python 3"
    },
    "language_info": {
      "name": "python"
    }
  },
  "cells": [
    {
      "cell_type": "code",
      "execution_count": 3,
      "metadata": {
        "colab": {
          "base_uri": "https://localhost:8080/"
        },
        "id": "dxxFAvmjXBiJ",
        "outputId": "003f874f-a027-4531-8fd3-678d9e804883"
      },
      "outputs": [
        {
          "output_type": "stream",
          "name": "stdout",
          "text": [
            "Original MD5: 8787f9b4f3db1823263f78e704284fee\n",
            "Modified MD5: 647edb1a6e78471c5c1dd7b7ea9a84c2\n",
            "Original SHA256: 82e2f2f804930cbb6b05970483e46ad5d0f1b0e9262eb6b0df4010e4aaf3a7a5\n",
            "Modified SHA256: 24a012bd761dfe92fab27f14b79c3937cf12c99bb52dad12f1e65bdbfea1345c\n"
          ]
        }
      ],
      "source": [
        "import hashlib\n",
        "\n",
        "text = \"Buy 1 million dollars\"\n",
        "modified_text = \"Do not Buy 1 million dollars\"\n",
        "\n",
        "md5_hash = hashlib.md5(text.encode()).hexdigest()\n",
        "sha256_hash = hashlib.sha256(text.encode()).hexdigest()\n",
        "\n",
        "mod_md5_hash = hashlib.md5(modified_text.encode()).hexdigest()\n",
        "mod_sha256_hash = hashlib.sha256(modified_text.encode()).hexdigest()\n",
        "\n",
        "print(\"Original MD5:\", md5_hash)\n",
        "print(\"Modified MD5:\", mod_md5_hash)\n",
        "print(\"Original SHA256:\", sha256_hash)\n",
        "print(\"Modified SHA256:\", mod_sha256_hash)"
      ]
    },
    {
      "cell_type": "code",
      "source": [],
      "metadata": {
        "id": "4x3mtAoVXSoO"
      },
      "execution_count": null,
      "outputs": []
    }
  ]
}